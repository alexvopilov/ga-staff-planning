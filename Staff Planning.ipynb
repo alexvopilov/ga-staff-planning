{
 "cells": [
  {
   "cell_type": "code",
   "execution_count": 1,
   "metadata": {
    "ExecuteTime": {
     "end_time": "2020-12-29T19:20:31.592948Z",
     "start_time": "2020-12-29T19:20:31.413049Z"
    }
   },
   "outputs": [],
   "source": [
    "import numpy as np\n",
    "import pandas as pd"
   ]
  },
  {
   "cell_type": "markdown",
   "metadata": {},
   "source": [
    "[days][person][genotype]  \n",
    "id,min,max (hours)"
   ]
  },
  {
   "cell_type": "code",
   "execution_count": 7,
   "metadata": {
    "ExecuteTime": {
     "end_time": "2020-12-29T19:49:47.121956Z",
     "start_time": "2020-12-29T19:49:47.118858Z"
    }
   },
   "outputs": [],
   "source": [
    "staff_planning = [[[j,0,10] for j in range(11)] for i in range(5)]"
   ]
  },
  {
   "cell_type": "code",
   "execution_count": 9,
   "metadata": {
    "ExecuteTime": {
     "end_time": "2020-12-29T19:49:58.873964Z",
     "start_time": "2020-12-29T19:49:58.868801Z"
    }
   },
   "outputs": [
    {
     "data": {
      "text/plain": [
       "[[[0, 0, 10],\n",
       "  [1, 0, 10],\n",
       "  [2, 0, 10],\n",
       "  [3, 0, 10],\n",
       "  [4, 0, 10],\n",
       "  [5, 0, 10],\n",
       "  [6, 0, 10],\n",
       "  [7, 0, 10],\n",
       "  [8, 0, 10],\n",
       "  [9, 0, 10],\n",
       "  [10, 0, 10]],\n",
       " [[0, 0, 10],\n",
       "  [1, 0, 10],\n",
       "  [2, 0, 10],\n",
       "  [3, 0, 10],\n",
       "  [4, 0, 10],\n",
       "  [5, 0, 10],\n",
       "  [6, 0, 10],\n",
       "  [7, 0, 10],\n",
       "  [8, 0, 10],\n",
       "  [9, 0, 10],\n",
       "  [10, 0, 10]]]"
      ]
     },
     "execution_count": 9,
     "metadata": {},
     "output_type": "execute_result"
    }
   ],
   "source": [
    "staff_planning[:2]"
   ]
  },
  {
   "cell_type": "code",
   "execution_count": 3,
   "metadata": {
    "ExecuteTime": {
     "end_time": "2020-12-29T19:44:06.730879Z",
     "start_time": "2020-12-29T19:44:06.723053Z"
    }
   },
   "outputs": [],
   "source": [
    "hourlystaff_needed = np.array([\n",
    "    [0, 0, 0, 0, 0, 0, 4, 4, 4, 2, 2, 2, 6, 6, 2, 2, 2, 6, 6, 6, 2, 2, 2, 2],\n",
    "    [0, 0, 0, 0, 0, 0, 4, 4, 4, 2, 2, 2, 6, 6, 2, 2, 2, 6, 6, 6, 2, 2, 2, 2],\n",
    "    [0, 0, 0, 0, 0, 0, 4, 4, 4, 2, 2, 2, 6, 6, 2, 2, 2, 6, 6, 6, 2, 2, 2, 2],\n",
    "    [0, 0, 0, 0, 0, 0, 4, 4, 4, 2, 2, 2, 6, 6, 2, 2, 2, 6, 6, 6, 2, 2, 2, 2],\n",
    "    [0, 0, 0, 0, 0, 0, 4, 4, 4, 2, 2, 2, 6, 6, 2, 2, 2, 6, 6, 6, 2, 2, 2, 2]\n",
    "])"
   ]
  },
  {
   "cell_type": "code",
   "execution_count": 4,
   "metadata": {
    "ExecuteTime": {
     "end_time": "2020-12-29T19:46:55.104933Z",
     "start_time": "2020-12-29T19:46:55.101377Z"
    }
   },
   "outputs": [],
   "source": [
    "def employee_present(employee, time):\n",
    "    employee_start_time = employee[1]\n",
    "    employee_duration = employee[2]\n",
    "    employee_end_time = employee_start_time + employee_duration\n",
    "    if (time >= employee_start_time) and (time < employee_end_time):\n",
    "        return True\n",
    "    return False"
   ]
  },
  {
   "cell_type": "code",
   "execution_count": 10,
   "metadata": {
    "ExecuteTime": {
     "end_time": "2020-12-29T19:54:23.560214Z",
     "start_time": "2020-12-29T19:54:23.555260Z"
    }
   },
   "outputs": [],
   "source": [
    "def staffplanning_to_hourlyplanning(staff_planning):\n",
    "    hourlystaff_week = []\n",
    "    for day in staff_planning:\n",
    "        hourlystaff_day = [] \n",
    "        for employee in day:  \n",
    "            employee_present_hour = []\n",
    "            for time in range(0, 24):\n",
    "                employee_present_hour.append(employee_present(employee, time))   \n",
    "            hourlystaff_day.append(employee_present_hour)  \n",
    "        hourlystaff_week.append(hourlystaff_day)\n",
    "    hourlystaff_week = np.array(hourlystaff_week).sum(axis = 1)  \n",
    "    return hourlystaff_week"
   ]
  },
  {
   "cell_type": "code",
   "execution_count": 11,
   "metadata": {
    "ExecuteTime": {
     "end_time": "2020-12-29T20:05:15.603599Z",
     "start_time": "2020-12-29T20:05:15.599772Z"
    }
   },
   "outputs": [],
   "source": [
    "def cost(hourlystaff, hourlystaff_needed):\n",
    "    errors = hourlystaff - hourlystaff_needed\n",
    "    overstaff = abs(errors[errors > 0].sum())\n",
    "    understaff = abs(errors[errors < 0].sum())\n",
    "    \n",
    "    overstaff_cost = 1\n",
    "    understaff_cost = 1\n",
    "    \n",
    "    cost = overstaff_cost * overstaff + understaff_cost * understaff\n",
    "    return cost"
   ]
  },
  {
   "cell_type": "code",
   "execution_count": 12,
   "metadata": {
    "ExecuteTime": {
     "end_time": "2020-12-29T20:07:26.131688Z",
     "start_time": "2020-12-29T20:07:26.126529Z"
    }
   },
   "outputs": [],
   "source": [
    "def generate_random_staff_planning(n_days, n_staff):\n",
    "    period_planning = []\n",
    "    for day in range(n_days):\n",
    "        day_planning = []\n",
    "        for employee_id in range(n_staff):\n",
    "            start_time = np.random.randint(0, 23)\n",
    "            duration = np.random.randint(0, 10)\n",
    "            employee = [employee_id, start_time, duration]\n",
    "            day_planning.append(employee)\n",
    "        period_planning.append(day_planning)\n",
    "    return period_planning"
   ]
  },
  {
   "cell_type": "code",
   "execution_count": 14,
   "metadata": {
    "ExecuteTime": {
     "end_time": "2020-12-29T20:07:41.839907Z",
     "start_time": "2020-12-29T20:07:41.831982Z"
    }
   },
   "outputs": [
    {
     "data": {
      "text/plain": [
       "[[[0, 11, 6],\n",
       "  [1, 13, 9],\n",
       "  [2, 10, 9],\n",
       "  [3, 2, 3],\n",
       "  [4, 0, 1],\n",
       "  [5, 10, 3],\n",
       "  [6, 18, 0],\n",
       "  [7, 12, 1],\n",
       "  [8, 17, 2],\n",
       "  [9, 21, 7],\n",
       "  [10, 2, 7]],\n",
       " [[0, 22, 6],\n",
       "  [1, 4, 6],\n",
       "  [2, 8, 7],\n",
       "  [3, 6, 6],\n",
       "  [4, 5, 5],\n",
       "  [5, 21, 0],\n",
       "  [6, 14, 8],\n",
       "  [7, 7, 4],\n",
       "  [8, 13, 8],\n",
       "  [9, 7, 3],\n",
       "  [10, 19, 1]]]"
      ]
     },
     "execution_count": 14,
     "metadata": {},
     "output_type": "execute_result"
    }
   ],
   "source": [
    "random_staff_planning = generate_random_staff_planning(n_days = 5, n_staff = 11)\n",
    "random_staff_planning[:2]"
   ]
  },
  {
   "cell_type": "code",
   "execution_count": 15,
   "metadata": {
    "ExecuteTime": {
     "end_time": "2020-12-29T20:08:10.218661Z",
     "start_time": "2020-12-29T20:08:10.214438Z"
    }
   },
   "outputs": [
    {
     "data": {
      "text/plain": [
       "206"
      ]
     },
     "execution_count": 15,
     "metadata": {},
     "output_type": "execute_result"
    }
   ],
   "source": [
    "cost(staffplanning_to_hourlyplanning(random_staff_planning), hourlystaff_needed)"
   ]
  },
  {
   "cell_type": "code",
   "execution_count": 17,
   "metadata": {
    "ExecuteTime": {
     "end_time": "2020-12-29T20:10:19.089439Z",
     "start_time": "2020-12-29T20:10:19.085722Z"
    }
   },
   "outputs": [],
   "source": [
    "def create_parent_generation(n_parents, n_days = 7, n_staff = 11):\n",
    "    parents = []\n",
    "    for i in range(n_parents):\n",
    "        parent = generate_random_staff_planning(n_days = n_days, n_staff = n_staff)\n",
    "        parents.append(parent)\n",
    "    return parents"
   ]
  },
  {
   "cell_type": "code",
   "execution_count": 18,
   "metadata": {
    "ExecuteTime": {
     "end_time": "2020-12-29T20:18:17.234376Z",
     "start_time": "2020-12-29T20:18:17.227719Z"
    }
   },
   "outputs": [],
   "source": [
    "def random_combine(parents, n_offspring):\n",
    "    n_parents = len(parents)\n",
    "    n_periods = len(parents[0])\n",
    "    n_employees = len(parents[0][0])\n",
    "    \n",
    "    offspring = []\n",
    "    for i in range(n_offspring):\n",
    "        random_dad = parents[np.random.randint(low = 0, high = n_parents - 1)]\n",
    "        random_mom = parents[np.random.randint(low = 0, high = n_parents - 1)]\n",
    "        \n",
    "        dad_mask = np.random.randint(0, 2, size = np.array(random_dad).shape)\n",
    "        mom_mask = np.logical_not(dad_mask)\n",
    "        \n",
    "        child = np.add(np.multiply(random_dad, dad_mask), np.multiply(random_mom, mom_mask))\n",
    "\n",
    "        offspring.append(child)\n",
    "    return offspring"
   ]
  },
  {
   "cell_type": "code",
   "execution_count": 20,
   "metadata": {
    "ExecuteTime": {
     "end_time": "2020-12-29T20:21:31.903282Z",
     "start_time": "2020-12-29T20:21:31.898796Z"
    }
   },
   "outputs": [],
   "source": [
    "def mutate_parent(parent, n_mutations):\n",
    "    size1 = parent.shape[0]\n",
    "    size2 = parent.shape[1]\n",
    "    for i in range(n_mutations):\n",
    "        rand1 = np.random.randint(0, size1)\n",
    "        rand2 = np.random.randint(0, size2)\n",
    "        rand3 = np.random.randint(1, 2)\n",
    "        parent[rand1,rand2,rand3] = np.random.randint(0, 10)\n",
    "    return parent"
   ]
  },
  {
   "cell_type": "code",
   "execution_count": 21,
   "metadata": {
    "ExecuteTime": {
     "end_time": "2020-12-29T20:21:34.244393Z",
     "start_time": "2020-12-29T20:21:34.241260Z"
    }
   },
   "outputs": [],
   "source": [
    "def mutate_gen(parent_gen, n_mutations):\n",
    "    mutated_parent_gen = []\n",
    "    for parent in parent_gen:\n",
    "        mutated_parent_gen.append(mutate_parent(parent, n_mutations))\n",
    "    return mutated_parent_gen"
   ]
  },
  {
   "cell_type": "code",
   "execution_count": 22,
   "metadata": {
    "ExecuteTime": {
     "end_time": "2020-12-29T20:22:09.620922Z",
     "start_time": "2020-12-29T20:22:09.617925Z"
    }
   },
   "outputs": [],
   "source": [
    "def is_acceptable(parent):\n",
    "    return np.logical_not((np.array(parent)[:,:,2:] > 10).any())"
   ]
  },
  {
   "cell_type": "code",
   "execution_count": 23,
   "metadata": {
    "ExecuteTime": {
     "end_time": "2020-12-29T20:22:10.388236Z",
     "start_time": "2020-12-29T20:22:10.385210Z"
    }
   },
   "outputs": [],
   "source": [
    "def select_acceptable(parent_gen):\n",
    "    parent_gen = [parent for parent in parent_gen if is_acceptable(parent)]\n",
    "    return parent_gen"
   ]
  },
  {
   "cell_type": "code",
   "execution_count": 24,
   "metadata": {
    "ExecuteTime": {
     "end_time": "2020-12-29T20:22:27.784521Z",
     "start_time": "2020-12-29T20:22:27.777754Z"
    }
   },
   "outputs": [],
   "source": [
    "def select_best(parent_gen, hourlystaff_needed, n_best):\n",
    "    costs = []\n",
    "    for idx, parent_staff_planning in enumerate(parent_gen):\n",
    "        \n",
    "        parent_hourly_planning = staffplanning_to_hourlyplanning(parent_staff_planning)\n",
    "        parent_cost = cost(parent_hourly_planning, hourlystaff_needed)\n",
    "        costs.append([idx, parent_cost])\n",
    "    \n",
    "    print('generations best is: {}, generations worst is: {}'.format(pd.DataFrame(costs)[1].min(), pd.DataFrame(costs)[1].max()))\n",
    "    \n",
    "    costs_tmp = pd.DataFrame(costs).sort_values(by = 1, ascending = True).reset_index(drop=True)\n",
    "    selected_parents_idx = list(costs_tmp.iloc[:n_best,0])\n",
    "    selected_parents = [parent for idx, parent in enumerate(parent_gen) if idx in selected_parents_idx]\n",
    "    \n",
    "    return selected_parents"
   ]
  },
  {
   "cell_type": "code",
   "execution_count": 26,
   "metadata": {
    "ExecuteTime": {
     "end_time": "2020-12-29T20:22:51.862621Z",
     "start_time": "2020-12-29T20:22:51.857931Z"
    }
   },
   "outputs": [],
   "source": [
    "def gen_algo(hourlystaff_needed, n_iterations):   \n",
    "    \n",
    "    generation_size = 5000\n",
    "    \n",
    "    parent_gen = create_parent_generation(n_parents = generation_size, n_days = 5, n_staff = 11)\n",
    "    for it in range(n_iterations):\n",
    "        parent_gen = select_acceptable(parent_gen)\n",
    "        parent_gen = select_best(parent_gen, hourlystaff_needed, n_best = 100)\n",
    "        parent_gen = random_combine(parent_gen, n_offspring = generation_size)\n",
    "        parent_gen = mutate_gen(parent_gen, n_mutations = 1)\n",
    "    \n",
    "    best_child = select_best(parent_gen, hourlystaff_needed, n_best = 1)\n",
    "    return best_child"
   ]
  },
  {
   "cell_type": "code",
   "execution_count": 27,
   "metadata": {
    "ExecuteTime": {
     "end_time": "2020-12-29T20:34:35.031656Z",
     "start_time": "2020-12-29T20:22:52.377521Z"
    }
   },
   "outputs": [
    {
     "name": "stdout",
     "output_type": "stream",
     "text": [
      "generations best is: 164, generations worst is: 287\n",
      "generations best is: 144, generations worst is: 260\n",
      "generations best is: 138, generations worst is: 224\n",
      "generations best is: 124, generations worst is: 214\n",
      "generations best is: 120, generations worst is: 204\n",
      "generations best is: 113, generations worst is: 203\n",
      "generations best is: 102, generations worst is: 191\n",
      "generations best is: 95, generations worst is: 182\n",
      "generations best is: 92, generations worst is: 181\n",
      "generations best is: 89, generations worst is: 181\n",
      "generations best is: 82, generations worst is: 173\n",
      "generations best is: 80, generations worst is: 179\n",
      "generations best is: 71, generations worst is: 182\n",
      "generations best is: 72, generations worst is: 169\n",
      "generations best is: 70, generations worst is: 149\n",
      "generations best is: 61, generations worst is: 149\n",
      "generations best is: 61, generations worst is: 143\n",
      "generations best is: 58, generations worst is: 138\n",
      "generations best is: 57, generations worst is: 137\n",
      "generations best is: 54, generations worst is: 130\n",
      "generations best is: 53, generations worst is: 129\n",
      "generations best is: 50, generations worst is: 125\n",
      "generations best is: 41, generations worst is: 128\n",
      "generations best is: 42, generations worst is: 133\n",
      "generations best is: 39, generations worst is: 114\n",
      "generations best is: 37, generations worst is: 111\n",
      "generations best is: 30, generations worst is: 96\n",
      "generations best is: 30, generations worst is: 88\n",
      "generations best is: 28, generations worst is: 87\n",
      "generations best is: 26, generations worst is: 82\n",
      "generations best is: 25, generations worst is: 84\n",
      "generations best is: 25, generations worst is: 76\n",
      "generations best is: 23, generations worst is: 71\n",
      "generations best is: 23, generations worst is: 67\n",
      "generations best is: 22, generations worst is: 61\n",
      "generations best is: 23, generations worst is: 58\n",
      "generations best is: 23, generations worst is: 52\n",
      "generations best is: 23, generations worst is: 53\n",
      "generations best is: 23, generations worst is: 54\n",
      "generations best is: 23, generations worst is: 49\n",
      "generations best is: 23, generations worst is: 53\n",
      "generations best is: 23, generations worst is: 51\n",
      "generations best is: 23, generations worst is: 51\n",
      "generations best is: 23, generations worst is: 50\n",
      "generations best is: 23, generations worst is: 52\n",
      "generations best is: 23, generations worst is: 46\n",
      "generations best is: 23, generations worst is: 50\n",
      "generations best is: 23, generations worst is: 48\n",
      "generations best is: 23, generations worst is: 47\n",
      "generations best is: 23, generations worst is: 46\n",
      "generations best is: 23, generations worst is: 46\n",
      "generations best is: 23, generations worst is: 45\n",
      "generations best is: 23, generations worst is: 47\n",
      "generations best is: 23, generations worst is: 45\n",
      "generations best is: 23, generations worst is: 44\n",
      "generations best is: 23, generations worst is: 45\n",
      "generations best is: 23, generations worst is: 45\n",
      "generations best is: 23, generations worst is: 45\n",
      "generations best is: 23, generations worst is: 45\n",
      "generations best is: 23, generations worst is: 45\n",
      "generations best is: 23, generations worst is: 45\n",
      "generations best is: 23, generations worst is: 47\n",
      "generations best is: 23, generations worst is: 43\n",
      "generations best is: 23, generations worst is: 45\n",
      "generations best is: 23, generations worst is: 45\n",
      "generations best is: 23, generations worst is: 45\n",
      "generations best is: 23, generations worst is: 45\n",
      "generations best is: 23, generations worst is: 43\n",
      "generations best is: 23, generations worst is: 45\n",
      "generations best is: 23, generations worst is: 45\n",
      "generations best is: 23, generations worst is: 44\n",
      "generations best is: 23, generations worst is: 43\n",
      "generations best is: 23, generations worst is: 43\n",
      "generations best is: 23, generations worst is: 45\n",
      "generations best is: 23, generations worst is: 45\n",
      "generations best is: 23, generations worst is: 45\n",
      "generations best is: 23, generations worst is: 45\n",
      "generations best is: 23, generations worst is: 45\n",
      "generations best is: 23, generations worst is: 45\n",
      "generations best is: 23, generations worst is: 45\n",
      "generations best is: 23, generations worst is: 43\n",
      "generations best is: 23, generations worst is: 45\n",
      "generations best is: 23, generations worst is: 45\n",
      "generations best is: 23, generations worst is: 43\n",
      "generations best is: 23, generations worst is: 45\n",
      "generations best is: 23, generations worst is: 45\n",
      "generations best is: 23, generations worst is: 45\n",
      "generations best is: 23, generations worst is: 45\n",
      "generations best is: 23, generations worst is: 45\n",
      "generations best is: 23, generations worst is: 45\n",
      "generations best is: 23, generations worst is: 45\n",
      "generations best is: 23, generations worst is: 45\n",
      "generations best is: 23, generations worst is: 45\n",
      "generations best is: 23, generations worst is: 45\n",
      "generations best is: 23, generations worst is: 45\n",
      "generations best is: 23, generations worst is: 45\n",
      "generations best is: 23, generations worst is: 45\n",
      "generations best is: 23, generations worst is: 45\n",
      "generations best is: 23, generations worst is: 45\n",
      "generations best is: 23, generations worst is: 45\n",
      "generations best is: 23, generations worst is: 45\n"
     ]
    }
   ],
   "source": [
    "best_planning = gen_algo(hourlystaff_needed, n_iterations = 100)\n"
   ]
  },
  {
   "cell_type": "code",
   "execution_count": 28,
   "metadata": {
    "ExecuteTime": {
     "end_time": "2020-12-29T20:34:35.047423Z",
     "start_time": "2020-12-29T20:34:35.044353Z"
    }
   },
   "outputs": [
    {
     "name": "stdout",
     "output_type": "stream",
     "text": [
      "[array([[[ 0, 17,  3],\n",
      "        [ 1, 12,  8],\n",
      "        [ 2,  6,  8],\n",
      "        [ 3,  6,  8],\n",
      "        [ 4,  6,  4],\n",
      "        [ 5, 17,  7],\n",
      "        [ 6, 12,  2],\n",
      "        [ 7,  7,  2],\n",
      "        [ 8, 12,  8],\n",
      "        [ 9, 17,  9],\n",
      "        [10, 16,  4]],\n",
      "\n",
      "       [[ 0, 12,  8],\n",
      "        [ 1,  6,  2],\n",
      "        [ 2, 17,  8],\n",
      "        [ 3,  7,  7],\n",
      "        [ 4, 12,  8],\n",
      "        [ 5, 17,  3],\n",
      "        [ 6, 12,  8],\n",
      "        [ 7,  6,  3],\n",
      "        [ 8, 12,  2],\n",
      "        [ 9, 17,  9],\n",
      "        [10,  6,  8]],\n",
      "\n",
      "       [[ 0, 12,  8],\n",
      "        [ 1,  6,  8],\n",
      "        [ 2,  6,  8],\n",
      "        [ 3,  6,  3],\n",
      "        [ 4, 12,  8],\n",
      "        [ 5, 17,  2],\n",
      "        [ 6, 12,  8],\n",
      "        [ 7, 17,  9],\n",
      "        [ 8, 12,  1],\n",
      "        [ 9, 17,  7],\n",
      "        [10,  6,  3]],\n",
      "\n",
      "       [[ 0, 17,  7],\n",
      "        [ 1, 17,  8],\n",
      "        [ 2,  7,  7],\n",
      "        [ 3, 17,  3],\n",
      "        [ 4, 12,  8],\n",
      "        [ 5,  6,  4],\n",
      "        [ 6, 12,  2],\n",
      "        [ 7, 17,  3],\n",
      "        [ 8,  6,  8],\n",
      "        [ 9,  6,  3],\n",
      "        [10, 12,  8]],\n",
      "\n",
      "       [[ 0,  6,  3],\n",
      "        [ 1,  6,  3],\n",
      "        [ 2,  6,  8],\n",
      "        [ 3, 11,  3],\n",
      "        [ 4, 12,  8],\n",
      "        [ 5, 17,  7],\n",
      "        [ 6, 17,  4],\n",
      "        [ 7,  6,  8],\n",
      "        [ 8, 17,  8],\n",
      "        [ 9, 17,  3],\n",
      "        [10, 12,  8]]])]\n"
     ]
    }
   ],
   "source": [
    "print(best_planning)"
   ]
  },
  {
   "cell_type": "code",
   "execution_count": 29,
   "metadata": {
    "ExecuteTime": {
     "end_time": "2020-12-29T20:34:35.142673Z",
     "start_time": "2020-12-29T20:34:35.058266Z"
    }
   },
   "outputs": [
    {
     "name": "stdout",
     "output_type": "stream",
     "text": [
      "[[0 0 0 0 0 0 3 4 4 3 2 2 5 5 2 2 3 6 6 6 2 2 2 2]\n",
      " [0 0 0 0 0 0 3 4 3 2 2 2 6 6 3 3 3 6 6 6 2 2 2 2]\n",
      " [0 0 0 0 0 0 4 4 4 2 2 2 6 5 3 3 3 6 6 5 2 2 2 2]\n",
      " [0 0 0 0 0 0 3 4 4 3 2 2 5 5 2 2 2 6 6 6 2 2 2 2]\n",
      " [0 0 0 0 0 0 4 4 4 2 2 3 5 5 2 2 2 6 6 6 3 2 2 2]]\n"
     ]
    }
   ],
   "source": [
    "print(staffplanning_to_hourlyplanning(best_planning[0]))"
   ]
  },
  {
   "cell_type": "code",
   "execution_count": null,
   "metadata": {},
   "outputs": [],
   "source": []
  }
 ],
 "metadata": {
  "kernelspec": {
   "display_name": "Python 3",
   "language": "python",
   "name": "python3"
  },
  "language_info": {
   "codemirror_mode": {
    "name": "ipython",
    "version": 3
   },
   "file_extension": ".py",
   "mimetype": "text/x-python",
   "name": "python",
   "nbconvert_exporter": "python",
   "pygments_lexer": "ipython3",
   "version": "3.7.6"
  },
  "varInspector": {
   "cols": {
    "lenName": 16,
    "lenType": 16,
    "lenVar": 40
   },
   "kernels_config": {
    "python": {
     "delete_cmd_postfix": "",
     "delete_cmd_prefix": "del ",
     "library": "var_list.py",
     "varRefreshCmd": "print(var_dic_list())"
    },
    "r": {
     "delete_cmd_postfix": ") ",
     "delete_cmd_prefix": "rm(",
     "library": "var_list.r",
     "varRefreshCmd": "cat(var_dic_list()) "
    }
   },
   "types_to_exclude": [
    "module",
    "function",
    "builtin_function_or_method",
    "instance",
    "_Feature"
   ],
   "window_display": false
  }
 },
 "nbformat": 4,
 "nbformat_minor": 4
}
